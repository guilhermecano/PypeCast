{
 "cells": [
  {
   "cell_type": "code",
   "execution_count": 1,
   "metadata": {},
   "outputs": [
    {
     "name": "stderr",
     "output_type": "stream",
     "text": [
      "Using TensorFlow backend.\n"
     ]
    }
   ],
   "source": [
    "import pandas as pd\n",
    "import numpy as np\n",
    "\n",
    "from pypecast.models import MLP, Simple_LSTM\n",
    "from pypecast.features import BuildFeaturesSupervised"
   ]
  },
  {
   "cell_type": "code",
   "execution_count": 2,
   "metadata": {},
   "outputs": [
    {
     "data": {
      "text/plain": [
       "0    266.0\n",
       "1    145.9\n",
       "2    183.1\n",
       "3    119.3\n",
       "4    180.3\n",
       "Name: Sales, dtype: float64"
      ]
     },
     "execution_count": 2,
     "metadata": {},
     "output_type": "execute_result"
    }
   ],
   "source": [
    "dummy = pd.read_csv('../data/example/dummy.csv')\n",
    "dummy = dummy.Sales.loc[:35].apply(lambda x: float(x))\n",
    "dummy.head()"
   ]
  },
  {
   "cell_type": "markdown",
   "metadata": {},
   "source": [
    "#### Define n_lag and n_seq"
   ]
  },
  {
   "cell_type": "code",
   "execution_count": 8,
   "metadata": {},
   "outputs": [],
   "source": [
    "n_lag = 2\n",
    "n_seq = 3\n",
    "\n",
    "bf = BuildFeaturesSupervised(n_lag, n_seq,difference=True,scaler_type='norm')"
   ]
  },
  {
   "cell_type": "code",
   "execution_count": 9,
   "metadata": {},
   "outputs": [],
   "source": [
    "train, test = bf.transform_data(dummy)"
   ]
  },
  {
   "cell_type": "code",
   "execution_count": 10,
   "metadata": {},
   "outputs": [],
   "source": [
    "model = Simple_LSTM(n_lag, n_seq, n_units=10)"
   ]
  },
  {
   "cell_type": "code",
   "execution_count": 11,
   "metadata": {},
   "outputs": [
    {
     "name": "stdout",
     "output_type": "stream",
     "text": [
      "Train on 19 samples, validate on 5 samples\n",
      "Epoch 1/10\n",
      " - 1s - loss: 0.1532 - val_loss: 0.1857\n",
      "Epoch 2/10\n",
      " - 0s - loss: 0.1500 - val_loss: 0.1804\n",
      "Epoch 3/10\n",
      " - 0s - loss: 0.1472 - val_loss: 0.1756\n",
      "Epoch 4/10\n",
      " - 0s - loss: 0.1447 - val_loss: 0.1711\n",
      "Epoch 5/10\n",
      " - 0s - loss: 0.1424 - val_loss: 0.1668\n",
      "Epoch 6/10\n",
      " - 0s - loss: 0.1403 - val_loss: 0.1628\n",
      "Epoch 7/10\n",
      " - 0s - loss: 0.1384 - val_loss: 0.1590\n",
      "Epoch 8/10\n",
      " - 0s - loss: 0.1366 - val_loss: 0.1553\n",
      "Epoch 9/10\n",
      " - 0s - loss: 0.1349 - val_loss: 0.1518\n",
      "Epoch 10/10\n",
      " - 0s - loss: 0.1333 - val_loss: 0.1484\n",
      "------------------------------------------------------------\n",
      "Model trained\n"
     ]
    }
   ],
   "source": [
    "model.fit(train,n_batch=1, n_epoch=10, early_stopping=True)"
   ]
  },
  {
   "cell_type": "code",
   "execution_count": 12,
   "metadata": {},
   "outputs": [
    {
     "data": {
      "text/plain": [
       "[[-0.016515046, -0.063678935, -0.01000724],\n",
       " [-0.09517345, -0.03311892, -0.14641944],\n",
       " [-0.031226227, -0.05645344, -0.016717345],\n",
       " [-0.06641577, -0.04791017, -0.08984114],\n",
       " [-0.08182517, -0.041852742, -0.084975906],\n",
       " [-0.005786609, -0.06534138, 0.0063657425],\n",
       " [-0.13102043, -0.015879774, -0.20526247]]"
      ]
     },
     "execution_count": 12,
     "metadata": {},
     "output_type": "execute_result"
    }
   ],
   "source": [
    "model.forecast_series(test)"
   ]
  },
  {
   "cell_type": "markdown",
   "metadata": {},
   "source": [
    "# Descriptor"
   ]
  },
  {
   "cell_type": "code",
   "execution_count": 3,
   "metadata": {},
   "outputs": [],
   "source": [
    "from statsmodels.tsa import stattools as stt\n",
    "from scipy import stats"
   ]
  },
  {
   "cell_type": "code",
   "execution_count": 4,
   "metadata": {},
   "outputs": [],
   "source": [
    "from pypecast.descriptor import SeriesDescriptor"
   ]
  },
  {
   "cell_type": "code",
   "execution_count": 5,
   "metadata": {},
   "outputs": [],
   "source": [
    "sd = SeriesDescriptor()"
   ]
  },
  {
   "cell_type": "code",
   "execution_count": 6,
   "metadata": {},
   "outputs": [
    {
     "name": "stdout",
     "output_type": "stream",
     "text": [
      "Description of the series data:\n",
      "            Sales\n",
      "count   36.000000\n",
      "mean   312.600000\n",
      "std    148.937164\n",
      "min    119.300000\n",
      "25%    192.450000\n",
      "50%    280.150000\n",
      "75%    411.100000\n",
      "max    682.000000\n"
     ]
    }
   ],
   "source": [
    "sd.describe(dummy)"
   ]
  },
  {
   "cell_type": "code",
   "execution_count": null,
   "metadata": {},
   "outputs": [],
   "source": []
  }
 ],
 "metadata": {
  "kernelspec": {
   "display_name": "Python 3",
   "language": "python",
   "name": "python3"
  },
  "language_info": {
   "codemirror_mode": {
    "name": "ipython",
    "version": 3
   },
   "file_extension": ".py",
   "mimetype": "text/x-python",
   "name": "python",
   "nbconvert_exporter": "python",
   "pygments_lexer": "ipython3",
   "version": "3.5.6"
  }
 },
 "nbformat": 4,
 "nbformat_minor": 2
}
