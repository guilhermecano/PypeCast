{
 "cells": [
  {
   "cell_type": "code",
   "execution_count": 9,
   "metadata": {},
   "outputs": [],
   "source": [
    "import pandas as pd\n",
    "import numpy as np\n",
    "\n",
    "from pypecast.models import MLP, Simple_LSTM\n",
    "from pypecast.features import BuildFeaturesSupervised"
   ]
  },
  {
   "cell_type": "code",
   "execution_count": 10,
   "metadata": {},
   "outputs": [
    {
     "data": {
      "text/plain": [
       "0    266.0\n",
       "1    145.9\n",
       "2    183.1\n",
       "3    119.3\n",
       "4    180.3\n",
       "Name: Sales, dtype: float64"
      ]
     },
     "execution_count": 10,
     "metadata": {},
     "output_type": "execute_result"
    }
   ],
   "source": [
    "dummy = pd.read_csv('../data/example/dummy.csv')\n",
    "dummy = dummy.Sales.loc[:35].apply(lambda x: float(x))\n",
    "dummy.head()"
   ]
  },
  {
   "cell_type": "markdown",
   "metadata": {},
   "source": [
    "#### Define n_lag and n_seq"
   ]
  },
  {
   "cell_type": "code",
   "execution_count": 11,
   "metadata": {},
   "outputs": [],
   "source": [
    "n_lag = 2\n",
    "n_seq = 3\n",
    "\n",
    "bf = BuildFeaturesSupervised(n_lag, n_seq)"
   ]
  },
  {
   "cell_type": "code",
   "execution_count": 12,
   "metadata": {},
   "outputs": [],
   "source": [
    "train, test = bf.transform_data(dummy)"
   ]
  },
  {
   "cell_type": "code",
   "execution_count": 14,
   "metadata": {},
   "outputs": [],
   "source": [
    "model = Simple_LSTM(n_lag, n_seq, n_units=10)"
   ]
  },
  {
   "cell_type": "code",
   "execution_count": 15,
   "metadata": {},
   "outputs": [
    {
     "name": "stdout",
     "output_type": "stream",
     "text": [
      "Train on 19 samples, validate on 5 samples\n",
      "Epoch 1/10\n",
      " - 1s - loss: 55319.6430 - val_loss: 132483.9438\n",
      "Epoch 2/10\n",
      " - 0s - loss: 55289.1398 - val_loss: 132439.7188\n",
      "Epoch 3/10\n",
      " - 0s - loss: 55261.5209 - val_loss: 132395.8922\n",
      "Epoch 4/10\n",
      " - 0s - loss: 55234.1159 - val_loss: 132352.3641\n",
      "Epoch 5/10\n",
      " - 0s - loss: 55206.8560 - val_loss: 132309.0016\n",
      "Epoch 6/10\n",
      " - 0s - loss: 55179.6787 - val_loss: 132265.7516\n",
      "Epoch 7/10\n",
      " - 0s - loss: 55152.5733 - val_loss: 132222.5844\n",
      "Epoch 8/10\n",
      " - 0s - loss: 55125.5021 - val_loss: 132179.4547\n",
      "Epoch 9/10\n",
      " - 0s - loss: 55098.4714 - val_loss: 132136.3953\n",
      "Epoch 10/10\n",
      " - 0s - loss: 55071.4720 - val_loss: 132093.3687\n",
      "------------------------------------------------------------\n",
      "Model trained\n"
     ]
    }
   ],
   "source": [
    "model.fit(train,n_batch=1, n_epoch=10, early_stopping=True)"
   ]
  },
  {
   "cell_type": "code",
   "execution_count": 16,
   "metadata": {},
   "outputs": [
    {
     "data": {
      "text/plain": [
       "[[0.5101186, 0.38413098, 1.3974708],\n",
       " [0.5101186, 0.38413098, 1.3974708],\n",
       " [0.5101186, 0.38413098, 1.3974708],\n",
       " [0.5101186, 0.38413098, 1.3974708],\n",
       " [0.5101186, 0.38413098, 1.3974708],\n",
       " [0.5101186, 0.38413098, 1.3974708],\n",
       " [0.5101186, 0.38413098, 1.3974708],\n",
       " [0.5101186, 0.38413098, 1.3974708]]"
      ]
     },
     "execution_count": 16,
     "metadata": {},
     "output_type": "execute_result"
    }
   ],
   "source": [
    "model.forecast_series(test)"
   ]
  },
  {
   "cell_type": "code",
   "execution_count": null,
   "metadata": {},
   "outputs": [],
   "source": []
  }
 ],
 "metadata": {
  "kernelspec": {
   "display_name": "Python 3",
   "language": "python",
   "name": "python3"
  },
  "language_info": {
   "codemirror_mode": {
    "name": "ipython",
    "version": 3
   },
   "file_extension": ".py",
   "mimetype": "text/x-python",
   "name": "python",
   "nbconvert_exporter": "python",
   "pygments_lexer": "ipython3",
   "version": "3.5.6"
  }
 },
 "nbformat": 4,
 "nbformat_minor": 2
}
