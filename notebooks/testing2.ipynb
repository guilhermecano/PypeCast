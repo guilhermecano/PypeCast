{
 "cells": [
  {
   "cell_type": "code",
   "execution_count": 1,
   "metadata": {},
   "outputs": [
    {
     "name": "stderr",
     "output_type": "stream",
     "text": [
      "Using TensorFlow backend.\n"
     ]
    }
   ],
   "source": [
    "import pandas as pd\n",
    "from pypecast.models import MLP, Simple_LSTM\n",
    "from pypecast.features import BuildFeaturesSupervised"
   ]
  },
  {
   "cell_type": "code",
   "execution_count": 2,
   "metadata": {},
   "outputs": [],
   "source": [
    "df = pd.read_csv('../data/processed/merged_90_days.csv').drop(['Unnamed: 0', 'Var'], axis=1)\n",
    "#test_df = pd.read_csv('../data/processed/test/merged_4_days.csv').drop(['Unnamed: 0', 'Var'], axis=1)\n",
    "df = df[df.Simb == 'PETR4'].Med\n",
    "dummy = pd.read_csv('../data/example/dummy.csv')\n",
    "dummy = dummy.Sales.loc[:35].apply(lambda x: float(x))"
   ]
  },
  {
   "cell_type": "code",
   "execution_count": 3,
   "metadata": {},
   "outputs": [],
   "source": [
    "series = dummy"
   ]
  },
  {
   "cell_type": "code",
   "execution_count": 4,
   "metadata": {},
   "outputs": [],
   "source": [
    "n_lag = 1\n",
    "n_seq = 3\n",
    "n_test = 10\n",
    "\n",
    "bf = BuildFeaturesSupervised(n_lag, n_seq, n_test=n_test,difference=True,scaler_type='norm')"
   ]
  },
  {
   "cell_type": "code",
   "execution_count": 5,
   "metadata": {},
   "outputs": [],
   "source": [
    "scaler, train, test = bf.transform_data(series)"
   ]
  },
  {
   "cell_type": "code",
   "execution_count": 6,
   "metadata": {},
   "outputs": [],
   "source": [
    "model = Simple_LSTM(n_lag, n_seq, 1)"
   ]
  },
  {
   "cell_type": "code",
   "execution_count": 7,
   "metadata": {},
   "outputs": [
    {
     "name": "stdout",
     "output_type": "stream",
     "text": [
      "Train on 17 samples, validate on 5 samples\n",
      "Epoch 1/100\n",
      " - 1s - loss: 0.1277 - val_loss: 0.1695\n",
      "Epoch 2/100\n",
      " - 0s - loss: 0.1266 - val_loss: 0.1690\n",
      "Epoch 3/100\n",
      " - 0s - loss: 0.1256 - val_loss: 0.1684\n",
      "Epoch 4/100\n",
      " - 0s - loss: 0.1247 - val_loss: 0.1679\n",
      "Epoch 5/100\n",
      " - 0s - loss: 0.1239 - val_loss: 0.1675\n",
      "Epoch 6/100\n",
      " - 0s - loss: 0.1231 - val_loss: 0.1671\n",
      "Epoch 7/100\n",
      " - 0s - loss: 0.1225 - val_loss: 0.1668\n",
      "Epoch 8/100\n",
      " - 0s - loss: 0.1218 - val_loss: 0.1665\n",
      "Epoch 9/100\n",
      " - 0s - loss: 0.1213 - val_loss: 0.1662\n",
      "Epoch 10/100\n",
      " - 0s - loss: 0.1207 - val_loss: 0.1659\n",
      "Epoch 11/100\n",
      " - 0s - loss: 0.1202 - val_loss: 0.1657\n",
      "Epoch 12/100\n",
      " - 0s - loss: 0.1198 - val_loss: 0.1654\n",
      "Epoch 13/100\n",
      " - 0s - loss: 0.1193 - val_loss: 0.1652\n",
      "Epoch 14/100\n",
      " - 0s - loss: 0.1189 - val_loss: 0.1650\n",
      "Epoch 15/100\n",
      " - 0s - loss: 0.1186 - val_loss: 0.1648\n",
      "Epoch 16/100\n",
      " - 0s - loss: 0.1182 - val_loss: 0.1646\n",
      "Epoch 17/100\n",
      " - 0s - loss: 0.1179 - val_loss: 0.1644\n",
      "Epoch 18/100\n",
      " - 0s - loss: 0.1176 - val_loss: 0.1642\n",
      "Epoch 19/100\n",
      " - 0s - loss: 0.1173 - val_loss: 0.1640\n",
      "Epoch 20/100\n",
      " - 0s - loss: 0.1170 - val_loss: 0.1638\n",
      "Epoch 21/100\n",
      " - 0s - loss: 0.1168 - val_loss: 0.1637\n",
      "Epoch 22/100\n",
      " - 0s - loss: 0.1165 - val_loss: 0.1635\n",
      "Epoch 23/100\n",
      " - 0s - loss: 0.1163 - val_loss: 0.1633\n",
      "Epoch 24/100\n",
      " - 0s - loss: 0.1161 - val_loss: 0.1631\n",
      "Epoch 25/100\n",
      " - 0s - loss: 0.1159 - val_loss: 0.1629\n",
      "Epoch 26/100\n",
      " - 0s - loss: 0.1157 - val_loss: 0.1627\n",
      "Epoch 27/100\n",
      " - 0s - loss: 0.1155 - val_loss: 0.1625\n",
      "Epoch 28/100\n",
      " - 0s - loss: 0.1153 - val_loss: 0.1623\n",
      "Epoch 29/100\n",
      " - 0s - loss: 0.1151 - val_loss: 0.1621\n",
      "Epoch 30/100\n",
      " - 0s - loss: 0.1149 - val_loss: 0.1619\n",
      "Epoch 31/100\n",
      " - 0s - loss: 0.1147 - val_loss: 0.1617\n",
      "Epoch 32/100\n",
      " - 0s - loss: 0.1146 - val_loss: 0.1615\n",
      "Epoch 33/100\n",
      " - 0s - loss: 0.1144 - val_loss: 0.1612\n",
      "Epoch 34/100\n",
      " - 0s - loss: 0.1142 - val_loss: 0.1610\n",
      "Epoch 35/100\n",
      " - 0s - loss: 0.1141 - val_loss: 0.1608\n",
      "Epoch 36/100\n",
      " - 0s - loss: 0.1139 - val_loss: 0.1606\n",
      "Epoch 37/100\n",
      " - 0s - loss: 0.1138 - val_loss: 0.1603\n",
      "Epoch 38/100\n",
      " - 0s - loss: 0.1136 - val_loss: 0.1601\n",
      "Epoch 39/100\n",
      " - 0s - loss: 0.1134 - val_loss: 0.1598\n",
      "Epoch 40/100\n",
      " - 0s - loss: 0.1133 - val_loss: 0.1596\n",
      "Epoch 41/100\n",
      " - 0s - loss: 0.1131 - val_loss: 0.1593\n",
      "Epoch 42/100\n",
      " - 0s - loss: 0.1130 - val_loss: 0.1590\n",
      "Epoch 43/100\n",
      " - 0s - loss: 0.1128 - val_loss: 0.1588\n",
      "Epoch 44/100\n",
      " - 0s - loss: 0.1127 - val_loss: 0.1585\n",
      "Epoch 45/100\n",
      " - 0s - loss: 0.1126 - val_loss: 0.1582\n",
      "Epoch 46/100\n",
      " - 0s - loss: 0.1124 - val_loss: 0.1579\n",
      "Epoch 47/100\n",
      " - 0s - loss: 0.1123 - val_loss: 0.1576\n",
      "Epoch 48/100\n",
      " - 0s - loss: 0.1121 - val_loss: 0.1573\n",
      "Epoch 49/100\n",
      " - 0s - loss: 0.1120 - val_loss: 0.1570\n",
      "Epoch 50/100\n",
      " - 0s - loss: 0.1118 - val_loss: 0.1567\n",
      "Epoch 51/100\n",
      " - 0s - loss: 0.1117 - val_loss: 0.1564\n",
      "Epoch 52/100\n",
      " - 0s - loss: 0.1115 - val_loss: 0.1561\n",
      "Epoch 53/100\n",
      " - 0s - loss: 0.1114 - val_loss: 0.1558\n",
      "Epoch 54/100\n",
      " - 0s - loss: 0.1113 - val_loss: 0.1555\n",
      "Epoch 55/100\n",
      " - 0s - loss: 0.1111 - val_loss: 0.1552\n",
      "Epoch 56/100\n",
      " - 0s - loss: 0.1110 - val_loss: 0.1549\n",
      "Epoch 57/100\n",
      " - 0s - loss: 0.1108 - val_loss: 0.1545\n",
      "Epoch 58/100\n",
      " - 0s - loss: 0.1107 - val_loss: 0.1542\n",
      "Epoch 59/100\n",
      " - 0s - loss: 0.1105 - val_loss: 0.1539\n",
      "Epoch 60/100\n",
      " - 0s - loss: 0.1104 - val_loss: 0.1536\n",
      "Epoch 61/100\n",
      " - 0s - loss: 0.1103 - val_loss: 0.1532\n",
      "Epoch 62/100\n",
      " - 0s - loss: 0.1101 - val_loss: 0.1529\n",
      "Epoch 63/100\n",
      " - 0s - loss: 0.1100 - val_loss: 0.1526\n",
      "Epoch 64/100\n",
      " - 0s - loss: 0.1098 - val_loss: 0.1522\n",
      "Epoch 65/100\n",
      " - 0s - loss: 0.1097 - val_loss: 0.1519\n",
      "Epoch 66/100\n",
      " - 0s - loss: 0.1096 - val_loss: 0.1515\n",
      "Epoch 67/100\n",
      " - 0s - loss: 0.1094 - val_loss: 0.1512\n",
      "Epoch 68/100\n",
      " - 0s - loss: 0.1093 - val_loss: 0.1509\n",
      "Epoch 69/100\n",
      " - 0s - loss: 0.1092 - val_loss: 0.1505\n",
      "Epoch 70/100\n",
      " - 0s - loss: 0.1090 - val_loss: 0.1502\n",
      "Epoch 71/100\n",
      " - 0s - loss: 0.1089 - val_loss: 0.1498\n",
      "Epoch 72/100\n",
      " - 0s - loss: 0.1087 - val_loss: 0.1495\n",
      "Epoch 73/100\n",
      " - 0s - loss: 0.1086 - val_loss: 0.1492\n",
      "Epoch 74/100\n",
      " - 0s - loss: 0.1085 - val_loss: 0.1488\n",
      "Epoch 75/100\n",
      " - 0s - loss: 0.1083 - val_loss: 0.1485\n",
      "Epoch 76/100\n",
      " - 0s - loss: 0.1082 - val_loss: 0.1481\n",
      "Epoch 77/100\n",
      " - 0s - loss: 0.1081 - val_loss: 0.1478\n",
      "Epoch 78/100\n",
      " - 0s - loss: 0.1079 - val_loss: 0.1474\n",
      "Epoch 79/100\n",
      " - 0s - loss: 0.1078 - val_loss: 0.1471\n",
      "Epoch 80/100\n",
      " - 0s - loss: 0.1077 - val_loss: 0.1468\n",
      "Epoch 81/100\n",
      " - 0s - loss: 0.1076 - val_loss: 0.1464\n",
      "Epoch 82/100\n",
      " - 0s - loss: 0.1074 - val_loss: 0.1461\n",
      "Epoch 83/100\n",
      " - 0s - loss: 0.1073 - val_loss: 0.1457\n",
      "Epoch 84/100\n",
      " - 0s - loss: 0.1072 - val_loss: 0.1454\n",
      "Epoch 85/100\n",
      " - 0s - loss: 0.1070 - val_loss: 0.1451\n",
      "Epoch 86/100\n",
      " - 0s - loss: 0.1069 - val_loss: 0.1447\n",
      "Epoch 87/100\n",
      " - 0s - loss: 0.1068 - val_loss: 0.1444\n",
      "Epoch 88/100\n",
      " - 0s - loss: 0.1067 - val_loss: 0.1441\n",
      "Epoch 89/100\n",
      " - 0s - loss: 0.1066 - val_loss: 0.1437\n",
      "Epoch 90/100\n",
      " - 0s - loss: 0.1064 - val_loss: 0.1434\n",
      "Epoch 91/100\n",
      " - 0s - loss: 0.1063 - val_loss: 0.1431\n",
      "Epoch 92/100\n",
      " - 0s - loss: 0.1062 - val_loss: 0.1427\n",
      "Epoch 93/100\n",
      " - 0s - loss: 0.1061 - val_loss: 0.1424\n",
      "Epoch 94/100\n",
      " - 0s - loss: 0.1060 - val_loss: 0.1421\n",
      "Epoch 95/100\n",
      " - 0s - loss: 0.1058 - val_loss: 0.1418\n",
      "Epoch 96/100\n",
      " - 0s - loss: 0.1057 - val_loss: 0.1415\n",
      "Epoch 97/100\n",
      " - 0s - loss: 0.1056 - val_loss: 0.1411\n",
      "Epoch 98/100\n",
      " - 0s - loss: 0.1055 - val_loss: 0.1408\n",
      "Epoch 99/100\n",
      " - 0s - loss: 0.1054 - val_loss: 0.1405\n",
      "Epoch 100/100\n",
      " - 0s - loss: 0.1053 - val_loss: 0.1402\n",
      "------------------------------------------------------------\n",
      "Model trained\n"
     ]
    }
   ],
   "source": [
    "model.fit(train, n_batch = 1, n_epoch=100, early_stopping=True)"
   ]
  },
  {
   "cell_type": "code",
   "execution_count": 8,
   "metadata": {},
   "outputs": [],
   "source": [
    "forecasts = model.forecast_series(test=test, scaler=scaler, orig_series=series)"
   ]
  },
  {
   "cell_type": "code",
   "execution_count": 9,
   "metadata": {},
   "outputs": [
    {
     "name": "stdout",
     "output_type": "stream",
     "text": [
      "--------------------Forecast evaluation--------------------\n",
      "t+1 RMSE: 129.138856\n",
      "t+1 MAE: 107.450548\n",
      "t+1 sMAPE: 0.225710\n",
      "t+2 RMSE: 89.037896\n",
      "t+2 MAE: 78.257452\n",
      "t+2 sMAPE: 0.168047\n",
      "t+3 RMSE: 109.881539\n",
      "t+3 MAE: 94.940960\n",
      "t+3 sMAPE: 0.194551\n"
     ]
    }
   ],
   "source": [
    "model.evaluate_forecast()"
   ]
  },
  {
   "cell_type": "code",
   "execution_count": 10,
   "metadata": {
    "scrolled": false
   },
   "outputs": [
    {
     "data": {
      "image/png": "[encoded data removed]",
      "text/plain": [
       "<Figure size 864x432 with 1 Axes>"
      ]
     },
     "metadata": {},
     "output_type": "display_data"
    }
   ],
   "source": [
    "model.plot_forecasts(forecasts=forecasts,series=series, test=test)"
   ]
  },
  {
   "cell_type": "code",
   "execution_count": null,
   "metadata": {},
   "outputs": [],
   "source": []
  }
 ],
 "metadata": {
  "kernelspec": {
   "display_name": "Python 3",
   "language": "python",
   "name": "python3"
  },
  "language_info": {
   "codemirror_mode": {
    "name": "ipython",
    "version": 3
   },
   "file_extension": ".py",
   "mimetype": "text/x-python",
   "name": "python",
   "nbconvert_exporter": "python",
   "pygments_lexer": "ipython3",
   "version": "3.5.6"
  }
 },
 "nbformat": 4,
 "nbformat_minor": 2
}
