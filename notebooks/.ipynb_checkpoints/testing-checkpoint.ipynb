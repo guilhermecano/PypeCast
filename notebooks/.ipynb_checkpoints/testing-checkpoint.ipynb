{
 "cells": [
  {
   "cell_type": "code",
   "execution_count": 10,
   "metadata": {},
   "outputs": [],
   "source": [
    "import pandas as pd\n",
    "import numpy as np\n",
    "\n",
    "from pypecast.models import MLP, Simple_LSTM\n",
    "from pypecast.features import BuildFeaturesSupervised"
   ]
  },
  {
   "cell_type": "code",
   "execution_count": 11,
   "metadata": {},
   "outputs": [
    {
     "data": {
      "text/plain": [
       "0    266.0\n",
       "1    145.9\n",
       "2    183.1\n",
       "3    119.3\n",
       "4    180.3\n",
       "Name: Sales, dtype: float64"
      ]
     },
     "execution_count": 11,
     "metadata": {},
     "output_type": "execute_result"
    }
   ],
   "source": [
    "dummy = pd.read_csv('../data/example/dummy.csv')\n",
    "dummy = dummy.Sales.loc[:35].apply(lambda x: float(x))\n",
    "dummy.head()"
   ]
  },
  {
   "cell_type": "markdown",
   "metadata": {},
   "source": [
    "#### Define n_lag and n_seq"
   ]
  },
  {
   "cell_type": "code",
   "execution_count": 12,
   "metadata": {},
   "outputs": [],
   "source": [
    "n_lag = 2\n",
    "n_seq = 3\n",
    "\n",
    "bf = BuildFeaturesSupervised(n_lag, n_seq)"
   ]
  },
  {
   "cell_type": "code",
   "execution_count": 13,
   "metadata": {},
   "outputs": [],
   "source": [
    "train, test = bf.transform_data(dummy)"
   ]
  },
  {
   "cell_type": "code",
   "execution_count": 14,
   "metadata": {},
   "outputs": [
    {
     "data": {
      "text/plain": [
       "(24, 5)"
      ]
     },
     "execution_count": 14,
     "metadata": {},
     "output_type": "execute_result"
    }
   ],
   "source": [
    "train.shape"
   ]
  },
  {
   "cell_type": "code",
   "execution_count": 6,
   "metadata": {},
   "outputs": [],
   "source": [
    "model = Simple_LSTM(n_lag, n_seq, n_units=10)"
   ]
  },
  {
   "cell_type": "code",
   "execution_count": 7,
   "metadata": {},
   "outputs": [
    {
     "data": {
      "text/plain": [
       "(24, 5)"
      ]
     },
     "execution_count": 7,
     "metadata": {},
     "output_type": "execute_result"
    }
   ],
   "source": [
    "train.shape"
   ]
  },
  {
   "cell_type": "code",
   "execution_count": 8,
   "metadata": {},
   "outputs": [
    {
     "name": "stdout",
     "output_type": "stream",
     "text": [
      "Train on 19 samples, validate on 5 samples\n",
      "Epoch 1/10\n",
      " - 0s - loss: 89485.0868 - val_loss: 203565.1594\n",
      "Epoch 2/10\n",
      " - 0s - loss: 79633.2428 - val_loss: 180474.8406\n",
      "Epoch 3/10\n",
      " - 0s - loss: 71138.0557 - val_loss: 160408.4000\n",
      "Epoch 4/10\n",
      " - 0s - loss: 63609.4872 - val_loss: 142100.0234\n",
      "Epoch 5/10\n",
      " - 0s - loss: 56767.2978 - val_loss: 125414.6281\n",
      "Epoch 6/10\n",
      " - 0s - loss: 50471.8121 - val_loss: 110218.0453\n",
      "Epoch 7/10\n",
      " - 0s - loss: 44720.3503 - val_loss: 96310.2188\n",
      "Epoch 8/10\n",
      " - 0s - loss: 39364.6997 - val_loss: 83453.9383\n",
      "Epoch 9/10\n",
      " - 0s - loss: 34390.5397 - val_loss: 71618.3125\n",
      "Epoch 10/10\n",
      " - 0s - loss: 29859.4220 - val_loss: 61005.5813\n",
      "------------------------------------------------------------\n",
      "Model trained\n"
     ]
    }
   ],
   "source": [
    "model.fit(train,n_batch=1, n_epoch=10, early_stopping=True)"
   ]
  },
  {
   "cell_type": "code",
   "execution_count": 9,
   "metadata": {},
   "outputs": [
    {
     "data": {
      "text/plain": [
       "[[215.6335, 111.23728, 135.65242],\n",
       " [271.70114, -1.5471705, 142.61215],\n",
       " [197.68127, 114.618774, 135.8277],\n",
       " [281.8962, 60.39506, 140.90042],\n",
       " [262.6637, 100.29469, 133.30008],\n",
       " [276.69504, 146.27574, 177.33894],\n",
       " [353.81384, -5.8843822, 185.99062],\n",
       " [243.7808, 190.9228, 212.59045]]"
      ]
     },
     "execution_count": 9,
     "metadata": {},
     "output_type": "execute_result"
    }
   ],
   "source": [
    "model.forecast_series(test)"
   ]
  },
  {
   "cell_type": "code",
   "execution_count": null,
   "metadata": {},
   "outputs": [],
   "source": []
  }
 ],
 "metadata": {
  "kernelspec": {
   "display_name": "Python 3",
   "language": "python",
   "name": "python3"
  },
  "language_info": {
   "codemirror_mode": {
    "name": "ipython",
    "version": 3
   },
   "file_extension": ".py",
   "mimetype": "text/x-python",
   "name": "python",
   "nbconvert_exporter": "python",
   "pygments_lexer": "ipython3",
   "version": "3.5.6"
  }
 },
 "nbformat": 4,
 "nbformat_minor": 2
}
